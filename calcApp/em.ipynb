{
 "cells": [
  {
   "cell_type": "code",
   "execution_count": null,
   "metadata": {},
   "outputs": [],
   "source": [
    "import joblib\n",
    "import pandas as pd\n",
    "\n",
    "# Load the model from the file\n",
    "loaded_model = joblib.load('co2_emission_model.pkl')\n",
    "test_data = pd.DataFrame({\n",
    "    'Engine Size(L)': [2],\n",
    "    'Cylinders': [3],\n",
    "    'Fuel Consumption Comb (L/100 km)': [120]\n",
    "})\n",
    "\n",
    "# Use the loaded model to make predictions\n",
    "predicted_co2 = loaded_model.predict(test_data)\n"
   ]
  }
 ],
 "metadata": {
  "kernelspec": {
   "display_name": "Python 3",
   "language": "python",
   "name": "python3"
  },
  "language_info": {
   "codemirror_mode": {
    "name": "ipython",
    "version": 3
   },
   "file_extension": ".py",
   "mimetype": "text/x-python",
   "name": "python",
   "nbconvert_exporter": "python",
   "pygments_lexer": "ipython3",
   "version": "3.12.2"
  }
 },
 "nbformat": 4,
 "nbformat_minor": 2
}
